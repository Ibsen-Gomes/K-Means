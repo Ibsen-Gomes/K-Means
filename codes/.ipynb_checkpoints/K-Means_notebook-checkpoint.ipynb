{
 "cells": [
  {
   "cell_type": "markdown",
   "metadata": {},
   "source": [
    "# K-Means:"
   ]
  },
  {
   "cell_type": "code",
   "execution_count": null,
   "metadata": {},
   "outputs": [],
   "source": [
    "# Bibliotecas:\n",
    "\n",
    "import numpy as np \n",
    "import pandas as pd \n",
    "from matplotlib import pyplot as plt\n",
    "import sys\n",
    "import random"
   ]
  },
  {
   "cell_type": "code",
   "execution_count": null,
   "metadata": {},
   "outputs": [],
   "source": [
    "data = np.r_[\n",
    "    np.random.randn(100, 2) + np.array([12, 12]),\n",
    "    np.random.randn(70, 2) + np.array([4, 15]),\n",
    "    np.random.randn(50, 2) + np.array([2, 2]),\n",
    "    np.random.randn(150, 2) + np.array([7, 10]),\n",
    "    np.random.randn(200, 2) + np.array([3, 10])\n",
    "]\n",
    "\n",
    "plt.plot(data[:,0], data[:,1], marker='o', ls='none', label='Dados')\n",
    "plt.grid()\n",
    "plt.legend()\n",
    "plt.show()"
   ]
  },
  {
   "cell_type": "code",
   "execution_count": null,
   "metadata": {},
   "outputs": [],
   "source": [
    "type(data)"
   ]
  },
  {
   "cell_type": "code",
   "execution_count": null,
   "metadata": {},
   "outputs": [],
   "source": [
    "# Gerando centroides com a função random:\n",
    "\n",
    "k = 5 # n° de centroides\n",
    "centroids = np.zeros((k,2)) # array com zeros que será preenchido no loop abaixo\n",
    "\n",
    "for i in range(k):\n",
    "    x = np.array(np.random.uniform(min(data[:,0]),max(data[:,0])))\n",
    "    y = np.array(np.random.uniform(min(data[:,1]),max(data[:,1])))\n",
    "    centroids[i] = x, y\n",
    "    \n",
    "centroids"
   ]
  },
  {
   "cell_type": "code",
   "execution_count": null,
   "metadata": {},
   "outputs": [],
   "source": [
    "plt.plot(data[:,0], data[:,1], marker='o', ls='none', label='Dados')\n",
    "plt.plot(centroids[:,0], centroids[:,1], marker='o', ls='none', label='centroides')\n",
    "plt.grid()\n",
    "plt.legend()\n",
    "plt.show()"
   ]
  },
  {
   "cell_type": "code",
   "execution_count": null,
   "metadata": {},
   "outputs": [],
   "source": [
    "# Gerando centroides com a função random:\n",
    "\n",
    "k = 5 # n° de centroides\n",
    "centroids = np.zeros((k,2)) # array com zeros que será preenchido no loop abaixo\n",
    "\n",
    "for i in range(k):\n",
    "    index = np.random.randint(data.shape[0])\n",
    "    centroids[i] = data[index,:]\n",
    "    \n",
    "centroids"
   ]
  },
  {
   "cell_type": "code",
   "execution_count": null,
   "metadata": {},
   "outputs": [],
   "source": [
    "plt.plot(data[:,0], data[:,1], marker='o', ls='none', label='Dados')\n",
    "plt.plot(centroids[:,0], centroids[:,1], marker='o', ls='none', label='centroides')\n",
    "plt.grid()\n",
    "plt.legend()\n",
    "plt.show()"
   ]
  },
  {
   "cell_type": "code",
   "execution_count": null,
   "metadata": {},
   "outputs": [],
   "source": [
    "#Precisamos do modulo random\n",
    "import random\n",
    " \n",
    "def centrus(data, k=5, random='inicialization1'):\n",
    "     \n",
    "    centroids = np.zeros((k,2))\n",
    "    \n",
    "    if random == 'range':\n",
    "        for i in range(k):\n",
    "            x = np.array(np.random.uniform(min(data[:,0]),max(data[:,0])))\n",
    "            y = np.array(np.random.uniform(min(data[:,1]),max(data[:,1])))\n",
    "            centroids[i] = x, y\n",
    "            \n",
    "    if random == 'input_data':\n",
    "        for i in range(k):\n",
    "            index = np.random.randint(data.shape[0])\n",
    "            centroids[i] = data[index,:]\n",
    "            \n",
    "    return centroids"
   ]
  },
  {
   "cell_type": "code",
   "execution_count": null,
   "metadata": {},
   "outputs": [],
   "source": [
    "centroidss = centrus(data, random='input_data')\n",
    "centroidss"
   ]
  },
  {
   "cell_type": "code",
   "execution_count": null,
   "metadata": {},
   "outputs": [],
   "source": [
    "plt.plot(data[:,0], data[:,1], marker='o', ls='none', label='Dados')\n",
    "plt.plot(centroidss[:,0], centroidss[:,1], marker='o', ls='none', label='centroides')\n",
    "plt.grid()\n",
    "plt.legend()\n",
    "plt.show()"
   ]
  },
  {
   "cell_type": "code",
   "execution_count": null,
   "metadata": {},
   "outputs": [],
   "source": [
    "#Primeiro definimos a função para calculo de distância.\n",
    "from math import sqrt\n",
    " \n",
    "def manhattan(v1,v2):\n",
    "    \"\"\"Essa função recebe duas\n",
    "       listas e retorna a\n",
    "       distancia entre elas\"\"\"\n",
    " \n",
    "    #Armazena o quadrado da distância\n",
    "    dist = 0.0\n",
    "    for x in range(len(v1)):\n",
    "        dist += abs(v1[x] - v2[x])\n",
    " \n",
    "    #Tira a raiz quadrada da soma\n",
    "    manhattan = sqrt(dist)\n",
    "    return manhattan"
   ]
  },
  {
   "cell_type": "code",
   "execution_count": null,
   "metadata": {},
   "outputs": [],
   "source": [
    "#Primeiro definimos a função para calculo de distância.\n",
    "from math import sqrt\n",
    " \n",
    "def euclidian(v1,v2):\n",
    "    \"\"\"Essa função recebe duas\n",
    "       listas e retorna a\n",
    "       distancia entre elas\"\"\"\n",
    " \n",
    "    #Armazena o quadrado da distância\n",
    "    dist = 0.0\n",
    "    for x in range(len(v1)):\n",
    "        dist += (v1[x] - v2[x])**2\n",
    " \n",
    "    #Tira a raiz quadrada da soma\n",
    "    eucli = sqrt(dist)\n",
    "    return eucli"
   ]
  },
  {
   "cell_type": "code",
   "execution_count": null,
   "metadata": {},
   "outputs": [],
   "source": [
    "# Calculo da distância entre cada dado com todos os centroides:\n",
    "\n",
    "for j in range(len(data)):\n",
    "    dado=data[j]\n",
    "    for i in range(k):\n",
    "        d = euclidian(centroids[i],dado) #Calcula a distancia em relação ao centroide\n",
    "        print('distância:', d, 'amostra:', j+1)\n",
    "    "
   ]
  },
  {
   "cell_type": "code",
   "execution_count": null,
   "metadata": {},
   "outputs": [],
   "source": [
    "# Gerando centroides com a função random:\n",
    "\n",
    "k = 5 # n° de centroides\n",
    "centroids = np.zeros((k,2)) # array com zeros que será preenchido no loop abaixo\n",
    "\n",
    "for i in range(k):\n",
    "    index = np.random.randint(data.shape[0])\n",
    "    centroids[i] = data[index,:]\n",
    "    \n",
    "centroids"
   ]
  },
  {
   "cell_type": "code",
   "execution_count": null,
   "metadata": {},
   "outputs": [],
   "source": []
  },
  {
   "cell_type": "code",
   "execution_count": null,
   "metadata": {},
   "outputs": [],
   "source": [
    "lastmatches = None\n",
    "index = []\n",
    "#O número de iterações será no máximo 100\n",
    "for t in range(10):\n",
    "    bestmatches = [[] for i in range(k)]\n",
    "    #[0]*np.size(data,0)\n",
    "    \n",
    "    if t == 0:\n",
    "        centroids_1 = np.copy((centroids))\n",
    "    \n",
    "    cent=np.zeros((5, 2))\n",
    "    #Verifica qual centroide esta mais perto de cada instancia\n",
    "    for j in range(len(data)):\n",
    "        row=data[j]\n",
    "        bestmatche = 0 #Aqui armazeno o índice da menor distância para comparação\n",
    "        for i in range(k):\n",
    "            d = euclidian(centroids[i],row) #Calcula a distancia em relação ao centroide\n",
    "            if d < euclidian(centroids[bestmatche],row): ###Comparação entre as distâncias entre um dado e todos centroides?\n",
    "                bestmatche = i\n",
    "                index.append(bestmatche)\n",
    "        bestmatches[bestmatche].append(j)\n",
    "        \n",
    "    \n",
    "        \n",
    "        #print(bestmatche)\n",
    "    \n",
    "    #Se o resultado for o mesmo que da ultima vez esta completo\n",
    "    if bestmatches == lastmatches:\n",
    "        break\n",
    "    lastmatches=bestmatche\n",
    "    \n",
    "    #index.append(lastmatches)\n",
    "\n",
    "    #Move o centroide para a zona média do cluster\n",
    "    #no caso teremos \n",
    "    for i in range(k):\n",
    "        avgs=[0.0]*len(data[0])\n",
    "        if len(bestmatches[i])>0:\n",
    "            for rowid in bestmatches[i]:\n",
    "                for m in range(len(data[rowid])):\n",
    "                    avgs[m] += data[rowid][m]\n",
    "            for j in range(len(avgs)):\n",
    "                avgs[j] /= len(bestmatches[i])\n",
    "            centroids[i]=avgs\n",
    "        "
   ]
  },
  {
   "cell_type": "code",
   "execution_count": null,
   "metadata": {},
   "outputs": [],
   "source": [
    "index"
   ]
  },
  {
   "cell_type": "code",
   "execution_count": null,
   "metadata": {},
   "outputs": [],
   "source": [
    "centroids_1"
   ]
  },
  {
   "cell_type": "code",
   "execution_count": null,
   "metadata": {},
   "outputs": [],
   "source": [
    "centroids"
   ]
  },
  {
   "cell_type": "code",
   "execution_count": null,
   "metadata": {},
   "outputs": [],
   "source": [
    "plt.figure(figsize=(7,5))\n",
    "plt.plot(data[:,0], data[:,1], marker='o', ls='none', label='Dados')\n",
    "plt.plot(centroids_1[:,0], centroids_1[:,1], marker='o', ls='none', label='Centroides iniciais')\n",
    "plt.plot(centroids[:,0], centroids[:,1], marker='o', ls='none', label='Centroides após 2° iteração')\n",
    "for old, new in zip(centroids_1, centroids):\n",
    "    plt.annotate('', xy=new, xytext=old,\n",
    "             arrowprops=dict(facecolor='black', shrink=0.01, width=0.1, headwidth=5))\n",
    "plt.grid()\n",
    "plt.legend()\n",
    "plt.show()"
   ]
  },
  {
   "cell_type": "markdown",
   "metadata": {},
   "source": [
    "### Abaixo, temos a forma de inicialização usando o kmeans++:\n",
    "\n",
    "##### Obs: adaptado da referência usada: https://www.geeksforgeeks.org/ml-k-means-algorithm/"
   ]
  },
  {
   "cell_type": "markdown",
   "metadata": {},
   "source": [
    "### Abaixo, temos o kmeans++ final antes de usar no coódigo Kmeans final:"
   ]
  },
  {
   "cell_type": "code",
   "execution_count": null,
   "metadata": {},
   "outputs": [],
   "source": [
    "def kmeans_plus_plus(data, k):\n",
    "    \n",
    "    '''\n",
    "    Inicialização usando o kmeans++:\n",
    "    inputs:\n",
    "    data = numpy array onde será sorteado um ponto inicial e a partir dele selecionar outros centroides\n",
    "    k = numero de clusters\n",
    "    \n",
    "    output:\n",
    "    coordenadas dos centroides após o uso do kmeans++\n",
    "    \n",
    "    Obs: o código não seleciona o próximo centroide através de uma distribuição de probabilidade\n",
    "    ele apenas seleciona o proximo centroide como sendo o mais distante dos centroides ja selecionados!\n",
    "    '''\n",
    "    \n",
    "    ## inicializa uma lista de centróides e adiciona um ponto de dados selecionado aleatoriamente para a lista:\n",
    "    centroids = []\n",
    "    centroids.append(data[np.random.randint(\n",
    "            data.shape[0]), :])\n",
    "  \n",
    "    ## iterações para gerar os outros centroides (k - 1):\n",
    "    for c_id in range(k - 1):\n",
    "         \n",
    "        ## inicializa uma lista para armazenar distâncias entre os dados até o centróide mais próximo:\n",
    "        dist = []\n",
    "        for i in range(data.shape[0]):\n",
    "            point = data[i, :]\n",
    "            d = sys.maxsize\n",
    "             \n",
    "            ## calcula a distância de um dado até os centróide, selecionado e armazene a distância mínima:\n",
    "            for j in range(len(centroids)):\n",
    "                temp_dist = euclidian(point, centroids[j])\n",
    "                d = min(d, temp_dist)\n",
    "            dist.append(d)\n",
    "             \n",
    "        ## seleciona um dado com distância máxima como nosso próximo centróide\n",
    "        dist = np.array(dist)\n",
    "        next_centroid = data[np.argmax(dist), :]\n",
    "        centroids.append(next_centroid)\n",
    "        dist = []\n",
    "        \n",
    "    return centroids\n"
   ]
  },
  {
   "cell_type": "markdown",
   "metadata": {},
   "source": [
    "### Em forma de código completo:"
   ]
  },
  {
   "cell_type": "code",
   "execution_count": null,
   "metadata": {},
   "outputs": [],
   "source": [
    "def K_means(data, k, it, tol, random='range'):\n",
    "    \n",
    "    '''\n",
    "    Esse código aplica o método k-means a um conjunto de dados de entrada\n",
    "    \n",
    "    entrada:\n",
    "    data = dados a serem agrupados;\n",
    "    k = n° de centroides (quantos grupos se quer dividir os dados)\n",
    "    tol = tolerância \n",
    "    random = forma de inicialização dos centroides\n",
    "    \n",
    "    método:\n",
    "    -> calculo da distância entre cada dado com os centroides\n",
    "    -> atualização da posição do centroide para a média do grupo\n",
    "    -> se posição atual - posição anterios dos centroides for menor que tolerância (tol) o código para\n",
    "    -> se o critério de tolerância não for atendida, o código continua a realizar as iterações (talvez faça todas as iterações!)\n",
    "    \n",
    "    saída:\n",
    "    bestmatches = dados separados em grupos\n",
    "    centroids = coordenadas dos centroides após o fim das iterações \n",
    "    conta = quantas iterações foram realizadas\n",
    "    '''\n",
    "     \n",
    "    nprop = data.shape[1]\n",
    "    centroids = np.zeros((k, nprop)) # Array vazio que será preencido pelos Centroids (automatizar isso)\n",
    "    \n",
    "    # Condicional -> se \"range\", os centroides serão encolhidos de forma aleatória dentro de um range:\n",
    "    if random == 'range':\n",
    "        \n",
    "        for npro in range(nprop):\n",
    "            for i in range(k):\n",
    "                centroids[i,npro]  = np.array(np.random.uniform(min(data[:,npro]),max(data[:,npro])))\n",
    "            \n",
    "    # Condicional -> se \"input_data\", os centroides serão escolhidos entre os dados de entrada:     \n",
    "    if random == 'input_data':\n",
    "        \n",
    "        for i in range(k):\n",
    "            index = np.random.randint(data.shape[0])\n",
    "            centroids[i] = data[index,:]\n",
    "            \n",
    "    # Condicional -> para inicialização k-means++:\n",
    "    if random == 'kmeans++':\n",
    "        \n",
    "        centroids = kmeans_plus_plus(data, k) # chamando a função kmeans++\n",
    "        \n",
    "        \n",
    "    conta = 0\n",
    "    ###lastmatches = None\n",
    "    index = [0.0]*np.size(data,0) # para armazenar as etiquetas de cada amostra\n",
    "    \n",
    "    #O número de iterações será no máximo 100\n",
    "    for t in range(it):\n",
    "        bestmatches = [[] for i in range(k)]\n",
    "     \n",
    "        #Verifica qual centroide esta mais perto de cada instancia\n",
    "        for j in range(len(data)):\n",
    "            row=data[j]\n",
    "            bestmatche = 0 #Aqui armazeno o índice da menor distância para comparação\n",
    "            for i in range(k):\n",
    "                d = euclidian(centroids[i],row) #Calcula a distancia em relação ao centroide\n",
    "                if d < euclidian(centroids[bestmatche],row): ###Armazenando a menor distância entre a amaostra e o centroide!\n",
    "                    bestmatche = i\n",
    "            index[j] = bestmatche # add um indice que representa o centroide mais próximo\n",
    "            bestmatches[bestmatche].append(j)\n",
    "     \n",
    "        #Move o centroide para a zona média do cluster\n",
    "        #no caso teremos \n",
    "        for i in range(k):\n",
    "            avgs=[0.0]*len(data[0])\n",
    "            if len(bestmatches[i])>0:\n",
    "                for rowid in bestmatches[i]:\n",
    "                    for m in range(len(data[rowid])):\n",
    "                        avgs[m] += data[rowid][m]\n",
    "                for j in range(len(avgs)):\n",
    "                    avgs[j] /= len(bestmatches[i])\n",
    "                centroids[i]=avgs\n",
    "                \n",
    "        # Condicional para convergência: se a posição atual dos centroides - posição anterior...\n",
    "        # ...for menor que uma tolerância o código para e converge!\n",
    "        if np.allclose(centroids[i],centroids[i-1], rtol=tol) == True:\n",
    "            break \n",
    "            \n",
    "        ###lastmatches=bestmatche\n",
    "        conta += 1 # conta quantas iterações ocorreram\n",
    "    \n",
    "    \n",
    "    # Cálculo da inércia:\n",
    "    inercia = 0\n",
    "    for centro_index in range (k):\n",
    "        for amostra in range (len(index)):\n",
    "            # Se a etiqueta tiver o mesmo índice que o centroide, a operação para Ínercia será realizada:\n",
    "            if index[amostra] == centro_index: \n",
    "                inercia += sum(abs((data[amostra] - centroids[centro_index])**2))\n",
    "                \n",
    "    return centroids, conta, index, inercia"
   ]
  },
  {
   "cell_type": "code",
   "execution_count": null,
   "metadata": {},
   "outputs": [],
   "source": [
    "#Aqui retorna um lista de duas dimensões com os índices de cada cluster\n",
    "centroids_coord, ite, index, inercia = K_means(data, k=5, it=50,tol=0.1, random='input_data')\n"
   ]
  },
  {
   "cell_type": "code",
   "execution_count": null,
   "metadata": {},
   "outputs": [],
   "source": [
    "#centroids_coord = np.asarray(centroids_coord)\n",
    "centroids_coord"
   ]
  },
  {
   "cell_type": "code",
   "execution_count": null,
   "metadata": {},
   "outputs": [],
   "source": [
    "ite"
   ]
  },
  {
   "cell_type": "code",
   "execution_count": null,
   "metadata": {},
   "outputs": [],
   "source": [
    "index"
   ]
  },
  {
   "cell_type": "code",
   "execution_count": null,
   "metadata": {},
   "outputs": [],
   "source": [
    "plt.close('all')\n",
    "plt.figure(figsize=(8,7))\n",
    "\n",
    "plt.scatter(data[:,0], data[:,1], c = index, cmap='viridis'\n",
    "            , s=70, alpha=1.0) \n",
    "plt.scatter(centroids_coord[:,0], centroids_coord[:,1], c='k'\n",
    "            , s=90, alpha=1.0) \n",
    "plt.xlabel('RHOMB', fontsize = 12)\n",
    "plt.ylabel('GR', fontsize = 12)\n",
    "plt.grid(True)\n",
    "plt.show()"
   ]
  },
  {
   "cell_type": "code",
   "execution_count": null,
   "metadata": {},
   "outputs": [],
   "source": [
    "d = {'etiquetas': index,'prop1': data[:,0],'prop2': data[:,1]}\n",
    "\n",
    "df = pd.DataFrame(d)\n",
    "df"
   ]
  },
  {
   "cell_type": "code",
   "execution_count": null,
   "metadata": {},
   "outputs": [],
   "source": []
  },
  {
   "cell_type": "markdown",
   "metadata": {},
   "source": [
    "### Chamando a função Kmeans completa a partir do arquivo .py:"
   ]
  },
  {
   "cell_type": "code",
   "execution_count": null,
   "metadata": {},
   "outputs": [],
   "source": [
    "import Kmeans"
   ]
  },
  {
   "cell_type": "code",
   "execution_count": null,
   "metadata": {},
   "outputs": [],
   "source": [
    "tol = 0.3\n",
    "it = 50\n",
    "k = 5"
   ]
  },
  {
   "cell_type": "code",
   "execution_count": null,
   "metadata": {},
   "outputs": [],
   "source": [
    "centroids_coord, ite, index, inercia = Kmeans.K_means(data, k, it, tol, random='input_data')\n"
   ]
  },
  {
   "cell_type": "code",
   "execution_count": null,
   "metadata": {},
   "outputs": [],
   "source": [
    "#centroids_coord = np.asarray(centroids_coord)\n",
    "centroids_coord"
   ]
  },
  {
   "cell_type": "code",
   "execution_count": null,
   "metadata": {},
   "outputs": [],
   "source": [
    "ite"
   ]
  },
  {
   "cell_type": "code",
   "execution_count": null,
   "metadata": {},
   "outputs": [],
   "source": [
    "plt.close('all')\n",
    "plt.figure(figsize=(8,7))\n",
    "\n",
    "plt.scatter(data[:,0], data[:,1], c = index, cmap='viridis'\n",
    "            , s=70, alpha=1.0) \n",
    "plt.scatter(centroids_coord[:,0], centroids_coord[:,1], c='k'\n",
    "            , s=90, alpha=1.0) \n",
    "plt.xlabel('RHOMB', fontsize = 12)\n",
    "plt.ylabel('GR', fontsize = 12)\n",
    "plt.grid(True)\n",
    "plt.show()"
   ]
  },
  {
   "cell_type": "code",
   "execution_count": null,
   "metadata": {},
   "outputs": [],
   "source": []
  },
  {
   "cell_type": "markdown",
   "metadata": {},
   "source": [
    "### Aplicando em Perfis Geofísicos sintéticos, gerados em um programa de modelagem:"
   ]
  },
  {
   "cell_type": "code",
   "execution_count": null,
   "metadata": {},
   "outputs": [],
   "source": [
    "# Carregamento dos dados (10% ruído) de poço e do dicionário da modelagem\n",
    "cab_10 = ['prof', 'rhob', 'gr', 'dt']\n",
    "data_10 = pd.read_csv('arq1.txt', sep='\\s+',\n",
    "                      skiprows=1, names = cab_10, usecols=(0,1,2,3) )"
   ]
  },
  {
   "cell_type": "code",
   "execution_count": null,
   "metadata": {},
   "outputs": [],
   "source": [
    "data = np.zeros((len(data_10['rhob']), 3))\n",
    "np.size(data)"
   ]
  },
  {
   "cell_type": "code",
   "execution_count": null,
   "metadata": {},
   "outputs": [],
   "source": [
    "data[:,0] = data_10['dt']\n",
    "data[:,1] = data_10['gr']\n",
    "data[:,2] = data_10['dt']\n",
    "data"
   ]
  },
  {
   "cell_type": "code",
   "execution_count": null,
   "metadata": {},
   "outputs": [],
   "source": [
    "plt.plot(data[:,0], data[:,1], marker='o', ls='none', label='Dados')\n",
    "plt.grid()\n",
    "plt.legend()\n",
    "plt.show()"
   ]
  },
  {
   "cell_type": "code",
   "execution_count": null,
   "metadata": {},
   "outputs": [],
   "source": []
  },
  {
   "cell_type": "markdown",
   "metadata": {},
   "source": [
    "### Normalização dos dados:"
   ]
  },
  {
   "cell_type": "code",
   "execution_count": null,
   "metadata": {},
   "outputs": [],
   "source": [
    "new_data = np.zeros((len(data[:,0]), 3))\n",
    "np.shape(new_data)"
   ]
  },
  {
   "cell_type": "code",
   "execution_count": null,
   "metadata": {},
   "outputs": [],
   "source": [
    "new_data[:,0] = Kmeans.norm_data(data[:,0])\n",
    "new_data[:,1] = Kmeans.norm_data(data[:,1])\n",
    "new_data[:,2] = Kmeans.norm_data(data[:,2])\n",
    "\n",
    "new_data"
   ]
  },
  {
   "cell_type": "code",
   "execution_count": null,
   "metadata": {},
   "outputs": [],
   "source": []
  },
  {
   "cell_type": "markdown",
   "metadata": {},
   "source": [
    "### Aplicando Kmeans:"
   ]
  },
  {
   "cell_type": "code",
   "execution_count": null,
   "metadata": {},
   "outputs": [],
   "source": [
    "wcss = []\n",
    "\n",
    "for i in range(1, 11):\n",
    "    centroids_coord, ite,index, inercia = Kmeans.K_means(new_data, k=i, it=100,\n",
    "                                                         tol=0.2, random='input_data')\n",
    "    wcss.append(inercia)"
   ]
  },
  {
   "cell_type": "code",
   "execution_count": null,
   "metadata": {},
   "outputs": [],
   "source": [
    "# Mostra o Gráfico\n",
    "plt.plot(range(1, 11), wcss)\n",
    "plt.title('Curva de Cotovelo')\n",
    "#plt.ylim(min(wcss), max(wcss))\n",
    "plt.xlabel('Numero de Clusters')\n",
    "plt.ylabel('WCSS') #within cluster sum of squares\n",
    "plt.grid(True)\n",
    "plt.show()"
   ]
  },
  {
   "cell_type": "code",
   "execution_count": null,
   "metadata": {},
   "outputs": [],
   "source": []
  },
  {
   "cell_type": "code",
   "execution_count": null,
   "metadata": {},
   "outputs": [],
   "source": [
    "#Aqui retorna um lista de duas dimensões com os índices de cada cluster\n",
    "centroids_coord, ite, index, inercia = Kmeans.K_means(new_data, k=4, it=100,\n",
    "                                                      tol=0.2, random='input_data')"
   ]
  },
  {
   "cell_type": "code",
   "execution_count": null,
   "metadata": {},
   "outputs": [],
   "source": [
    "#centroids_coord = np.asarray(centroids_coord)"
   ]
  },
  {
   "cell_type": "code",
   "execution_count": null,
   "metadata": {},
   "outputs": [],
   "source": [
    "plt.close('all')\n",
    "plt.figure(figsize=(8,7))\n",
    "\n",
    "plt.scatter(new_data[:,0], new_data[:,1], c = index, cmap='viridis'\n",
    "            , s=70, alpha=1.0) \n",
    "plt.scatter(centroids_coord[:,0], centroids_coord[:,1], c='k'\n",
    "            , s=90, alpha=1.0) \n",
    "plt.xlabel('RHOMB', fontsize = 12)\n",
    "plt.ylabel('GR', fontsize = 12)\n",
    "plt.grid(True)\n",
    "plt.show()\n",
    "    "
   ]
  },
  {
   "cell_type": "markdown",
   "metadata": {},
   "source": [
    "### Kmeans Sklearn:"
   ]
  },
  {
   "cell_type": "code",
   "execution_count": null,
   "metadata": {},
   "outputs": [],
   "source": [
    "# Módulos do k-means:\n",
    "from sklearn.cluster import KMeans\n",
    "from sklearn import datasets"
   ]
  },
  {
   "cell_type": "code",
   "execution_count": null,
   "metadata": {},
   "outputs": [],
   "source": [
    "# Cozinha do K-means: ### Testes com 9 clusters e 2 rochas \"acertadas\"!\n",
    "\n",
    "#nprop  = 3                 # número de propriedades físicas ativas\n",
    "maxiter = 100 ###              # numero maximo de iteracoes \n",
    "toler   = 1e-8 ###        # tolerancia para o criterio de parada \n",
    "ninit   = 30 ###               # numero de inicializacoes do Kmeans\n",
    "nclust  = 4            # numero de clusters utilizados"
   ]
  },
  {
   "cell_type": "code",
   "execution_count": null,
   "metadata": {},
   "outputs": [],
   "source": [
    "estimators = KMeans(n_clusters=nclust, \n",
    "                    max_iter=maxiter, \n",
    "                    init=\"random\", \n",
    "                    tol=toler, \n",
    "                    n_init=ninit,\n",
    "                    algorithm=\"lloyd\") # tirar esse int para não ter mesma semente\n",
    "\n",
    "estimators.fit(new_data)\n",
    "y_kmeans = estimators.fit(new_data)"
   ]
  },
  {
   "cell_type": "code",
   "execution_count": null,
   "metadata": {},
   "outputs": [],
   "source": [
    "#centroids_coord = np.asarray(centroids_coord)\n",
    "centroids_coord"
   ]
  },
  {
   "cell_type": "markdown",
   "metadata": {},
   "source": [
    "### Comparando os dois agrupamentos:"
   ]
  },
  {
   "cell_type": "code",
   "execution_count": null,
   "metadata": {},
   "outputs": [],
   "source": [
    "plt.close('all')\n",
    "\n",
    "fig = plt.figure(figsize=(12, 12))\n",
    "ax1 = fig.add_subplot(221)\n",
    "\n",
    "ax1.scatter(new_data[:,0],new_data[:,1], c=estimators.labels_,  cmap='viridis'\n",
    "            , s=70, alpha=1.0)\n",
    "ax1.scatter(estimators.cluster_centers_[:,0],\n",
    "                    estimators.cluster_centers_[:,1],c='k',s = 90, alpha=1.0)\n",
    "ax1.set_xlabel('RHOb', labelpad = 5)\n",
    "ax1.set_ylabel('GR', labelpad = 5)\n",
    "ax1.set_title('Kmeans Sklearn')\n",
    "ax1.grid(True)\n",
    "\n",
    "ax2 = fig.add_subplot(222) \n",
    "ax2.scatter(new_data[:,0], new_data[:,1], c=index, cmap='viridis'\n",
    "            , s=70, alpha=1.0) \n",
    "ax2.scatter(centroids_coord[:,0], centroids_coord[:,1], c='k', s=90, alpha=1.0) \n",
    "ax2.set_xlabel('RHOb', labelpad = 5)\n",
    "ax2.set_ylabel('GR', labelpad = 5)\n",
    "ax2.set_title('Kmeans Ibsen')\n",
    "ax2.grid(True)\n",
    "\n",
    "plt.savefig('RHObxGR_Kmeans_Ibsen.png',dpi=300, bbox_inches='tight',transparent=True)\n",
    "plt.show()"
   ]
  },
  {
   "cell_type": "code",
   "execution_count": null,
   "metadata": {},
   "outputs": [],
   "source": []
  }
 ],
 "metadata": {
  "kernelspec": {
   "display_name": "Python 3 (ipykernel)",
   "language": "python",
   "name": "python3"
  },
  "language_info": {
   "codemirror_mode": {
    "name": "ipython",
    "version": 3
   },
   "file_extension": ".py",
   "mimetype": "text/x-python",
   "name": "python",
   "nbconvert_exporter": "python",
   "pygments_lexer": "ipython3",
   "version": "3.10.9"
  },
  "vscode": {
   "interpreter": {
    "hash": "7cb0a797dc2cbeec374f5f260710235b03915a514446eebb7de292526d1706a3"
   }
  }
 },
 "nbformat": 4,
 "nbformat_minor": 2
}
